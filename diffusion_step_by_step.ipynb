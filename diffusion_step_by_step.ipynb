{
  "cells": [
    {
      "cell_type": "markdown",
      "metadata": {},
      "source": [
        "## A notebook that demonstrates the diffusion image generation process step by step, outputting images and a GIF showing the process\n",
        "### TLDR Process --> this one's easy:\n",
        "1. Get onto Google Colab with a GPU runtime (L4 will do)\n",
        "2. Install the diffusers library (everything else should be available)\n",
        "3. Set up a HF_TOKEN env variable to auth to HuggingFace\n",
        "4. Run all the cells to have your image generated using the default encoders, tokenizers, unet and scheduler\n",
        "5. Try out some other autoencoders, unets and schedulers from [🤗 Hugging Face](https://huggingface.co/models)"
      ]
    },
    {
      "cell_type": "code",
      "execution_count": null,
      "metadata": {
        "colab": {
          "base_uri": "https://localhost:8080/"
        },
        "id": "lWnIwPvyUlT-",
        "outputId": "7e3c0ad6-5a17-4230-8163-a3b8354f7a79"
      },
      "outputs": [],
      "source": [
        "!pip install diffusers"
      ]
    },
    {
      "cell_type": "code",
      "execution_count": 46,
      "metadata": {
        "id": "G7cDJDFAUW-R"
      },
      "outputs": [],
      "source": [
        "from diffusers import AutoencoderKL, PNDMScheduler, UNet2DConditionModel\n",
        "from transformers import CLIPTextModel, CLIPTokenizer\n",
        "import torch\n",
        "from torch import autocast\n",
        "from tqdm.auto import tqdm\n",
        "from PIL import Image\n",
        "import os"
      ]
    },
    {
      "cell_type": "code",
      "execution_count": 47,
      "metadata": {
        "colab": {
          "base_uri": "https://localhost:8080/",
          "height": 332,
          "referenced_widgets": [
            "7cc2fde84eb84353bd7dff77b514b73f",
            "1f3ce414c0cc4ea3b841c74d62dd91fd",
            "6e26553934634d28a10c6bf9b6359539",
            "ad3b39a310db40c890bb20c7a4b27c82",
            "329640e95f354a9d9fade840fb1f21ff",
            "5d6281b08344496a9c7db5334c6ede58",
            "917d67eb68b34288947b1d1dfc2858a1",
            "18c643110670453a9b775ab2604e7c8b",
            "8f68d969df634aab9d65d2c83f111b37",
            "c842b69d57504a5fb735ae11f2d7ac5e",
            "b77a79e3ef77493789e75806096123b1",
            "8421e869c7984ba39b793185a595442a",
            "d4dcd2110e0241658ee5cbd307b35461",
            "8ea5da3d2f8347a289858c76095fbbb0",
            "b58e644764024e5dad2cf780536b1dce",
            "c0646901aff446e485f4e06db807b0a7",
            "9541eca67f24440198911eced6591e8d"
          ]
        },
        "id": "iYnzAilIh5Uq",
        "outputId": "95351ee7-fbbc-4b27-9b90-86066bd84ef6"
      },
      "outputs": [
        {
          "data": {
            "application/vnd.jupyter.widget-view+json": {
              "model_id": "7cc2fde84eb84353bd7dff77b514b73f",
              "version_major": 2,
              "version_minor": 0
            },
            "text/plain": [
              "VBox(children=(HTML(value='<center> <img\\nsrc=https://huggingface.co/front/assets/huggingface_logo-noborder.sv…"
            ]
          },
          "metadata": {},
          "output_type": "display_data"
        }
      ],
      "source": [
        "# Auth to Hugging Face manually, otherwise just set a HF_TOKEN env variable to avoid this\n",
        "# from huggingface_hub import login\n",
        "# login()"
      ]
    },
    {
      "cell_type": "code",
      "execution_count": 48,
      "metadata": {
        "id": "bBbZUeEOX-mC"
      },
      "outputs": [],
      "source": [
        "device = \"cuda\" if torch.cuda.is_available() else \"cpu\""
      ]
    },
    {
      "cell_type": "code",
      "execution_count": 49,
      "metadata": {
        "id": "-3kz1avhQmos"
      },
      "outputs": [],
      "source": [
        "# variational autoencoder model used to decode the latents back into image space\n",
        "vae = AutoencoderKL.from_pretrained(\"stable-diffusion-v1-5/stable-diffusion-v1-5\", subfolder=\"vae\").to(device)\n",
        "\n",
        "# tokenizer and text encoder to tokenize and encode prompts\n",
        "tokenizer = CLIPTokenizer.from_pretrained(\"openai/clip-vit-large-patch14\")\n",
        "text_encoder = CLIPTextModel.from_pretrained(\"openai/clip-vit-large-patch14\")\n",
        "\n",
        "# UNet model uesd to transform images into latent space\n",
        "unet = UNet2DConditionModel.from_pretrained(\"stable-diffusion-v1-5/stable-diffusion-v1-5\", subfolder=\"unet\").to(device)\n",
        "\n",
        "# scheduler for handling noise manipulation\n",
        "scheduler = PNDMScheduler(beta_start=0.00085, beta_end=0.012, beta_schedule=\"scaled_linear\", num_train_timesteps=1000)"
      ]
    },
    {
      "cell_type": "code",
      "execution_count": 55,
      "metadata": {
        "id": "VTHkyLbfdGg9"
      },
      "outputs": [],
      "source": [
        "# define prompt and basic parameters\n",
        "prompt = [\"An elephant drinking from a lake\"]\n",
        "height, width = 1024, 1024\n",
        "num_inference_steps = 30\n",
        "guidance_scale = 7.5\n",
        "batch_size = 1"
      ]
    },
    {
      "cell_type": "code",
      "execution_count": 56,
      "metadata": {
        "id": "2AcdgRoodOP7"
      },
      "outputs": [],
      "source": [
        "def get_text_embeddings(prompt, max_length=None):\n",
        "  max_length = max_length if max_length is not None else tokenizer.model_max_length\n",
        "  text_input = tokenizer(\n",
        "      prompt,\n",
        "      padding=\"max_length\",\n",
        "      max_length=max_length,\n",
        "      truncation=True,\n",
        "      return_tensors=\"pt\",\n",
        "  )\n",
        "  \n",
        "  with torch.no_grad():\n",
        "    text_embeddings = text_encoder(text_input.input_ids)[0]\n",
        "  \n",
        "  max_length = text_input.input_ids.shape[-1]\n",
        "  return text_embeddings, max_length\n",
        "\n",
        "prompt_embeddings, max_length = get_text_embeddings(prompt)\n",
        "\n",
        "# unconditional input used in classifier-free guidance method\n",
        "uncond_embeddings, _ = get_text_embeddings([\"\"], max_length)\n",
        "\n",
        "text_embeddings = torch.cat([uncond_embeddings, prompt_embeddings]).to(device)"
      ]
    },
    {
      "cell_type": "code",
      "execution_count": 57,
      "metadata": {
        "colab": {
          "base_uri": "https://localhost:8080/"
        },
        "id": "m2lMzcFoW7gi",
        "outputId": "de9e86cf-ebbb-4417-c806-285ffab0ef72"
      },
      "outputs": [
        {
          "name": "stderr",
          "output_type": "stream",
          "text": [
            "<ipython-input-57-ef78a34df7f7>:10: FutureWarning: Accessing config attribute `in_channels` directly via 'UNet2DConditionModel' object attribute is deprecated. Please access 'in_channels' over 'UNet2DConditionModel's config object instead, e.g. 'unet.config.in_channels'.\n",
            "  (batch_size, unet.in_channels, height // 8, width // 8),\n"
          ]
        }
      ],
      "source": [
        "# prepare scheduler\n",
        "def set_timesteps(scheduler, num_inference_steps):\n",
        "    scheduler.set_timesteps(num_inference_steps)\n",
        "    scheduler.timesteps = scheduler.timesteps.to(torch.float32)\n",
        "\n",
        "set_timesteps(scheduler,num_inference_steps)\n",
        "\n",
        "# define latents in the desired dimensionality and shape\n",
        "latents = torch.randn(\n",
        "  (batch_size, unet.in_channels, height // 8, width // 8),\n",
        ")\n",
        "latents = latents.to(device)\n",
        "latents = latents * scheduler.init_noise_sigma"
      ]
    },
    {
      "cell_type": "code",
      "execution_count": 58,
      "metadata": {
        "id": "pIfJ5TNvW8KM"
      },
      "outputs": [],
      "source": [
        "# handle transformations between the standard image space and the latent space\n",
        "def latent_to_image_tensor(latents):\n",
        "  # 0.18215 is a scale factor outlined in the original \"High-Resolution Image Synthesis with Latent Diffusion Models\" paper (https://arxiv.org/pdf/2112.10752)\n",
        "  latents = 1/0.18215 * latents\n",
        "  with torch.no_grad():\n",
        "      image = vae.decode(latents).sample\n",
        "  return image\n",
        "\n",
        "def tensor_to_image(image):\n",
        "  image = (image / 2 + 0.5).clamp(0, 1)  # take values from [-1,1] to [0,1]\n",
        "  image = image.detach().cpu().permute(0, 2, 3, 1).numpy()\n",
        "  image = (image * 255).round().astype(\"uint8\")\n",
        "  pil_image = Image.fromarray(image[0])  # index 0 to remove batch dimension\n",
        "  return pil_image"
      ]
    },
    {
      "cell_type": "code",
      "execution_count": 59,
      "metadata": {
        "colab": {
          "base_uri": "https://localhost:8080/"
        },
        "id": "-ONxYF_7W2SG",
        "outputId": "49212c88-2627-4fe2-b595-3bdb5c955f79"
      },
      "outputs": [
        {
          "name": "stderr",
          "output_type": "stream",
          "text": [
            "100%|██████████| 39/39 [00:17<00:00,  2.23it/s]\n"
          ]
        }
      ],
      "source": [
        "from tqdm import tqdm\n",
        "import torch\n",
        "\n",
        "for i, t in tqdm(enumerate(scheduler.timesteps), total=len(scheduler.timesteps)):\n",
        "    # duplicate the latents tensor as required for classifier-free guidance\n",
        "    latent_input = torch.cat([latents] * 2)\n",
        "\n",
        "    # only performing inference therefore no gradient computation required\n",
        "    with torch.no_grad():\n",
        "        noise_pred = unet(latent_input, t, encoder_hidden_states=text_embeddings).sample\n",
        "\n",
        "    noise_pred_uncond, noise_pred_text = noise_pred.chunk(2)\n",
        "\n",
        "    # the core algorithm: good to think about it like a simple equation: n=u+g*(t-u)\n",
        "    noise_pred = noise_pred_uncond + guidance_scale * (noise_pred_text - noise_pred_uncond)\n",
        "\n",
        "    # convert timestemp to a long as required by the PNDM scheduler\n",
        "    t_int = t.long() if torch.is_tensor(t) else int(t)\n",
        "\n",
        "    # use the scheduler to update the latents based on the predicted noise\n",
        "    latents = scheduler.step(noise_pred, t_int, latents).prev_sample\n",
        "\n",
        "    # Convert the latents to an image tensor and then to an image that can be saved\n",
        "    image_tensor = latent_to_image_tensor(latents)\n",
        "    image = tensor_to_image(image_tensor)\n",
        "    image.save(f\"image_{i+1:02d}.png\")"
      ]
    },
    {
      "cell_type": "code",
      "execution_count": 54,
      "metadata": {
        "id": "DqsnRgnSoGJu"
      },
      "outputs": [],
      "source": [
        "# import all images and make an animation\n",
        "images = [f for f in os.listdir('.') if f.startswith('image_')]\n",
        "images.sort()\n",
        "image_list = []\n",
        "\n",
        "for image in images:\n",
        "  path = os.path.join('.', image)\n",
        "  image = Image.open(path)\n",
        "  image_list.append(image)\n",
        "\n",
        "image_list[0].save(\"elephant_animation.gif\", save_all=True, append_images=image_list[1:], duration=100, loop=0)"
      ]
    }
  ],
  "metadata": {
    "accelerator": "GPU",
    "colab": {
      "gpuType": "L4",
      "provenance": []
    },
    "kernelspec": {
      "display_name": "Python 3",
      "name": "python3"
    },
    "language_info": {
      "name": "python"
    },
    "widgets": {
      "application/vnd.jupyter.widget-state+json": {
        "18c643110670453a9b775ab2604e7c8b": {
          "model_module": "@jupyter-widgets/base",
          "model_module_version": "1.2.0",
          "model_name": "LayoutModel",
          "state": {
            "_model_module": "@jupyter-widgets/base",
            "_model_module_version": "1.2.0",
            "_model_name": "LayoutModel",
            "_view_count": null,
            "_view_module": "@jupyter-widgets/base",
            "_view_module_version": "1.2.0",
            "_view_name": "LayoutView",
            "align_content": null,
            "align_items": null,
            "align_self": null,
            "border": null,
            "bottom": null,
            "display": null,
            "flex": null,
            "flex_flow": null,
            "grid_area": null,
            "grid_auto_columns": null,
            "grid_auto_flow": null,
            "grid_auto_rows": null,
            "grid_column": null,
            "grid_gap": null,
            "grid_row": null,
            "grid_template_areas": null,
            "grid_template_columns": null,
            "grid_template_rows": null,
            "height": null,
            "justify_content": null,
            "justify_items": null,
            "left": null,
            "margin": null,
            "max_height": null,
            "max_width": null,
            "min_height": null,
            "min_width": null,
            "object_fit": null,
            "object_position": null,
            "order": null,
            "overflow": null,
            "overflow_x": null,
            "overflow_y": null,
            "padding": null,
            "right": null,
            "top": null,
            "visibility": null,
            "width": null
          }
        },
        "1f3ce414c0cc4ea3b841c74d62dd91fd": {
          "model_module": "@jupyter-widgets/controls",
          "model_module_version": "1.5.0",
          "model_name": "HTMLModel",
          "state": {
            "_dom_classes": [],
            "_model_module": "@jupyter-widgets/controls",
            "_model_module_version": "1.5.0",
            "_model_name": "HTMLModel",
            "_view_count": null,
            "_view_module": "@jupyter-widgets/controls",
            "_view_module_version": "1.5.0",
            "_view_name": "HTMLView",
            "description": "",
            "description_tooltip": null,
            "layout": "IPY_MODEL_18c643110670453a9b775ab2604e7c8b",
            "placeholder": "​",
            "style": "IPY_MODEL_8f68d969df634aab9d65d2c83f111b37",
            "value": "<center> <img\nsrc=https://huggingface.co/front/assets/huggingface_logo-noborder.svg\nalt='Hugging Face'> <br> Copy a token from <a\nhref=\"https://huggingface.co/settings/tokens\" target=\"_blank\">your Hugging Face\ntokens page</a> and paste it below. <br> Immediately click login after copying\nyour token or it might be stored in plain text in this notebook file. </center>"
          }
        },
        "329640e95f354a9d9fade840fb1f21ff": {
          "model_module": "@jupyter-widgets/controls",
          "model_module_version": "1.5.0",
          "model_name": "ButtonModel",
          "state": {
            "_dom_classes": [],
            "_model_module": "@jupyter-widgets/controls",
            "_model_module_version": "1.5.0",
            "_model_name": "ButtonModel",
            "_view_count": null,
            "_view_module": "@jupyter-widgets/controls",
            "_view_module_version": "1.5.0",
            "_view_name": "ButtonView",
            "button_style": "",
            "description": "Login",
            "disabled": false,
            "icon": "",
            "layout": "IPY_MODEL_8ea5da3d2f8347a289858c76095fbbb0",
            "style": "IPY_MODEL_b58e644764024e5dad2cf780536b1dce",
            "tooltip": ""
          }
        },
        "5d6281b08344496a9c7db5334c6ede58": {
          "model_module": "@jupyter-widgets/controls",
          "model_module_version": "1.5.0",
          "model_name": "HTMLModel",
          "state": {
            "_dom_classes": [],
            "_model_module": "@jupyter-widgets/controls",
            "_model_module_version": "1.5.0",
            "_model_name": "HTMLModel",
            "_view_count": null,
            "_view_module": "@jupyter-widgets/controls",
            "_view_module_version": "1.5.0",
            "_view_name": "HTMLView",
            "description": "",
            "description_tooltip": null,
            "layout": "IPY_MODEL_c0646901aff446e485f4e06db807b0a7",
            "placeholder": "​",
            "style": "IPY_MODEL_9541eca67f24440198911eced6591e8d",
            "value": "\n<b>Pro Tip:</b> If you don't already have one, you can create a dedicated\n'notebooks' token with 'write' access, that you can then easily reuse for all\nnotebooks. </center>"
          }
        },
        "6e26553934634d28a10c6bf9b6359539": {
          "model_module": "@jupyter-widgets/controls",
          "model_module_version": "1.5.0",
          "model_name": "PasswordModel",
          "state": {
            "_dom_classes": [],
            "_model_module": "@jupyter-widgets/controls",
            "_model_module_version": "1.5.0",
            "_model_name": "PasswordModel",
            "_view_count": null,
            "_view_module": "@jupyter-widgets/controls",
            "_view_module_version": "1.5.0",
            "_view_name": "PasswordView",
            "continuous_update": true,
            "description": "Token:",
            "description_tooltip": null,
            "disabled": false,
            "layout": "IPY_MODEL_c842b69d57504a5fb735ae11f2d7ac5e",
            "placeholder": "​",
            "style": "IPY_MODEL_b77a79e3ef77493789e75806096123b1",
            "value": ""
          }
        },
        "7cc2fde84eb84353bd7dff77b514b73f": {
          "model_module": "@jupyter-widgets/controls",
          "model_module_version": "1.5.0",
          "model_name": "VBoxModel",
          "state": {
            "_dom_classes": [],
            "_model_module": "@jupyter-widgets/controls",
            "_model_module_version": "1.5.0",
            "_model_name": "VBoxModel",
            "_view_count": null,
            "_view_module": "@jupyter-widgets/controls",
            "_view_module_version": "1.5.0",
            "_view_name": "VBoxView",
            "box_style": "",
            "children": [
              "IPY_MODEL_1f3ce414c0cc4ea3b841c74d62dd91fd",
              "IPY_MODEL_6e26553934634d28a10c6bf9b6359539",
              "IPY_MODEL_ad3b39a310db40c890bb20c7a4b27c82",
              "IPY_MODEL_329640e95f354a9d9fade840fb1f21ff",
              "IPY_MODEL_5d6281b08344496a9c7db5334c6ede58"
            ],
            "layout": "IPY_MODEL_917d67eb68b34288947b1d1dfc2858a1"
          }
        },
        "8421e869c7984ba39b793185a595442a": {
          "model_module": "@jupyter-widgets/base",
          "model_module_version": "1.2.0",
          "model_name": "LayoutModel",
          "state": {
            "_model_module": "@jupyter-widgets/base",
            "_model_module_version": "1.2.0",
            "_model_name": "LayoutModel",
            "_view_count": null,
            "_view_module": "@jupyter-widgets/base",
            "_view_module_version": "1.2.0",
            "_view_name": "LayoutView",
            "align_content": null,
            "align_items": null,
            "align_self": null,
            "border": null,
            "bottom": null,
            "display": null,
            "flex": null,
            "flex_flow": null,
            "grid_area": null,
            "grid_auto_columns": null,
            "grid_auto_flow": null,
            "grid_auto_rows": null,
            "grid_column": null,
            "grid_gap": null,
            "grid_row": null,
            "grid_template_areas": null,
            "grid_template_columns": null,
            "grid_template_rows": null,
            "height": null,
            "justify_content": null,
            "justify_items": null,
            "left": null,
            "margin": null,
            "max_height": null,
            "max_width": null,
            "min_height": null,
            "min_width": null,
            "object_fit": null,
            "object_position": null,
            "order": null,
            "overflow": null,
            "overflow_x": null,
            "overflow_y": null,
            "padding": null,
            "right": null,
            "top": null,
            "visibility": null,
            "width": null
          }
        },
        "8ea5da3d2f8347a289858c76095fbbb0": {
          "model_module": "@jupyter-widgets/base",
          "model_module_version": "1.2.0",
          "model_name": "LayoutModel",
          "state": {
            "_model_module": "@jupyter-widgets/base",
            "_model_module_version": "1.2.0",
            "_model_name": "LayoutModel",
            "_view_count": null,
            "_view_module": "@jupyter-widgets/base",
            "_view_module_version": "1.2.0",
            "_view_name": "LayoutView",
            "align_content": null,
            "align_items": null,
            "align_self": null,
            "border": null,
            "bottom": null,
            "display": null,
            "flex": null,
            "flex_flow": null,
            "grid_area": null,
            "grid_auto_columns": null,
            "grid_auto_flow": null,
            "grid_auto_rows": null,
            "grid_column": null,
            "grid_gap": null,
            "grid_row": null,
            "grid_template_areas": null,
            "grid_template_columns": null,
            "grid_template_rows": null,
            "height": null,
            "justify_content": null,
            "justify_items": null,
            "left": null,
            "margin": null,
            "max_height": null,
            "max_width": null,
            "min_height": null,
            "min_width": null,
            "object_fit": null,
            "object_position": null,
            "order": null,
            "overflow": null,
            "overflow_x": null,
            "overflow_y": null,
            "padding": null,
            "right": null,
            "top": null,
            "visibility": null,
            "width": null
          }
        },
        "8f68d969df634aab9d65d2c83f111b37": {
          "model_module": "@jupyter-widgets/controls",
          "model_module_version": "1.5.0",
          "model_name": "DescriptionStyleModel",
          "state": {
            "_model_module": "@jupyter-widgets/controls",
            "_model_module_version": "1.5.0",
            "_model_name": "DescriptionStyleModel",
            "_view_count": null,
            "_view_module": "@jupyter-widgets/base",
            "_view_module_version": "1.2.0",
            "_view_name": "StyleView",
            "description_width": ""
          }
        },
        "917d67eb68b34288947b1d1dfc2858a1": {
          "model_module": "@jupyter-widgets/base",
          "model_module_version": "1.2.0",
          "model_name": "LayoutModel",
          "state": {
            "_model_module": "@jupyter-widgets/base",
            "_model_module_version": "1.2.0",
            "_model_name": "LayoutModel",
            "_view_count": null,
            "_view_module": "@jupyter-widgets/base",
            "_view_module_version": "1.2.0",
            "_view_name": "LayoutView",
            "align_content": null,
            "align_items": "center",
            "align_self": null,
            "border": null,
            "bottom": null,
            "display": "flex",
            "flex": null,
            "flex_flow": "column",
            "grid_area": null,
            "grid_auto_columns": null,
            "grid_auto_flow": null,
            "grid_auto_rows": null,
            "grid_column": null,
            "grid_gap": null,
            "grid_row": null,
            "grid_template_areas": null,
            "grid_template_columns": null,
            "grid_template_rows": null,
            "height": null,
            "justify_content": null,
            "justify_items": null,
            "left": null,
            "margin": null,
            "max_height": null,
            "max_width": null,
            "min_height": null,
            "min_width": null,
            "object_fit": null,
            "object_position": null,
            "order": null,
            "overflow": null,
            "overflow_x": null,
            "overflow_y": null,
            "padding": null,
            "right": null,
            "top": null,
            "visibility": null,
            "width": "50%"
          }
        },
        "9541eca67f24440198911eced6591e8d": {
          "model_module": "@jupyter-widgets/controls",
          "model_module_version": "1.5.0",
          "model_name": "DescriptionStyleModel",
          "state": {
            "_model_module": "@jupyter-widgets/controls",
            "_model_module_version": "1.5.0",
            "_model_name": "DescriptionStyleModel",
            "_view_count": null,
            "_view_module": "@jupyter-widgets/base",
            "_view_module_version": "1.2.0",
            "_view_name": "StyleView",
            "description_width": ""
          }
        },
        "ad3b39a310db40c890bb20c7a4b27c82": {
          "model_module": "@jupyter-widgets/controls",
          "model_module_version": "1.5.0",
          "model_name": "CheckboxModel",
          "state": {
            "_dom_classes": [],
            "_model_module": "@jupyter-widgets/controls",
            "_model_module_version": "1.5.0",
            "_model_name": "CheckboxModel",
            "_view_count": null,
            "_view_module": "@jupyter-widgets/controls",
            "_view_module_version": "1.5.0",
            "_view_name": "CheckboxView",
            "description": "Add token as git credential?",
            "description_tooltip": null,
            "disabled": false,
            "indent": true,
            "layout": "IPY_MODEL_8421e869c7984ba39b793185a595442a",
            "style": "IPY_MODEL_d4dcd2110e0241658ee5cbd307b35461",
            "value": true
          }
        },
        "b58e644764024e5dad2cf780536b1dce": {
          "model_module": "@jupyter-widgets/controls",
          "model_module_version": "1.5.0",
          "model_name": "ButtonStyleModel",
          "state": {
            "_model_module": "@jupyter-widgets/controls",
            "_model_module_version": "1.5.0",
            "_model_name": "ButtonStyleModel",
            "_view_count": null,
            "_view_module": "@jupyter-widgets/base",
            "_view_module_version": "1.2.0",
            "_view_name": "StyleView",
            "button_color": null,
            "font_weight": ""
          }
        },
        "b77a79e3ef77493789e75806096123b1": {
          "model_module": "@jupyter-widgets/controls",
          "model_module_version": "1.5.0",
          "model_name": "DescriptionStyleModel",
          "state": {
            "_model_module": "@jupyter-widgets/controls",
            "_model_module_version": "1.5.0",
            "_model_name": "DescriptionStyleModel",
            "_view_count": null,
            "_view_module": "@jupyter-widgets/base",
            "_view_module_version": "1.2.0",
            "_view_name": "StyleView",
            "description_width": ""
          }
        },
        "c0646901aff446e485f4e06db807b0a7": {
          "model_module": "@jupyter-widgets/base",
          "model_module_version": "1.2.0",
          "model_name": "LayoutModel",
          "state": {
            "_model_module": "@jupyter-widgets/base",
            "_model_module_version": "1.2.0",
            "_model_name": "LayoutModel",
            "_view_count": null,
            "_view_module": "@jupyter-widgets/base",
            "_view_module_version": "1.2.0",
            "_view_name": "LayoutView",
            "align_content": null,
            "align_items": null,
            "align_self": null,
            "border": null,
            "bottom": null,
            "display": null,
            "flex": null,
            "flex_flow": null,
            "grid_area": null,
            "grid_auto_columns": null,
            "grid_auto_flow": null,
            "grid_auto_rows": null,
            "grid_column": null,
            "grid_gap": null,
            "grid_row": null,
            "grid_template_areas": null,
            "grid_template_columns": null,
            "grid_template_rows": null,
            "height": null,
            "justify_content": null,
            "justify_items": null,
            "left": null,
            "margin": null,
            "max_height": null,
            "max_width": null,
            "min_height": null,
            "min_width": null,
            "object_fit": null,
            "object_position": null,
            "order": null,
            "overflow": null,
            "overflow_x": null,
            "overflow_y": null,
            "padding": null,
            "right": null,
            "top": null,
            "visibility": null,
            "width": null
          }
        },
        "c842b69d57504a5fb735ae11f2d7ac5e": {
          "model_module": "@jupyter-widgets/base",
          "model_module_version": "1.2.0",
          "model_name": "LayoutModel",
          "state": {
            "_model_module": "@jupyter-widgets/base",
            "_model_module_version": "1.2.0",
            "_model_name": "LayoutModel",
            "_view_count": null,
            "_view_module": "@jupyter-widgets/base",
            "_view_module_version": "1.2.0",
            "_view_name": "LayoutView",
            "align_content": null,
            "align_items": null,
            "align_self": null,
            "border": null,
            "bottom": null,
            "display": null,
            "flex": null,
            "flex_flow": null,
            "grid_area": null,
            "grid_auto_columns": null,
            "grid_auto_flow": null,
            "grid_auto_rows": null,
            "grid_column": null,
            "grid_gap": null,
            "grid_row": null,
            "grid_template_areas": null,
            "grid_template_columns": null,
            "grid_template_rows": null,
            "height": null,
            "justify_content": null,
            "justify_items": null,
            "left": null,
            "margin": null,
            "max_height": null,
            "max_width": null,
            "min_height": null,
            "min_width": null,
            "object_fit": null,
            "object_position": null,
            "order": null,
            "overflow": null,
            "overflow_x": null,
            "overflow_y": null,
            "padding": null,
            "right": null,
            "top": null,
            "visibility": null,
            "width": null
          }
        },
        "d4dcd2110e0241658ee5cbd307b35461": {
          "model_module": "@jupyter-widgets/controls",
          "model_module_version": "1.5.0",
          "model_name": "DescriptionStyleModel",
          "state": {
            "_model_module": "@jupyter-widgets/controls",
            "_model_module_version": "1.5.0",
            "_model_name": "DescriptionStyleModel",
            "_view_count": null,
            "_view_module": "@jupyter-widgets/base",
            "_view_module_version": "1.2.0",
            "_view_name": "StyleView",
            "description_width": ""
          }
        }
      }
    }
  },
  "nbformat": 4,
  "nbformat_minor": 0
}
